{
  "nbformat": 4,
  "nbformat_minor": 0,
  "metadata": {
    "colab": {
      "name": "Melis-CNN-2.ipynb",
      "version": "0.3.2",
      "provenance": [],
      "collapsed_sections": []
    },
    "kernelspec": {
      "name": "python3",
      "display_name": "Python 3"
    },
    "accelerator": "GPU"
  },
  "cells": [
    {
      "cell_type": "code",
      "metadata": {
        "id": "Av_xyWQi9fXZ",
        "colab_type": "code",
        "outputId": "ca912916-5bb8-469b-fe93-e26133c3195e",
        "colab": {
          "base_uri": "https://localhost:8080/",
          "height": 68
        }
      },
      "source": [
        "from __future__ import print_function\n",
        "import keras\n",
        "from keras.datasets import mnist\n",
        "from keras.models import Sequential\n",
        "from keras.layers import Dense, Dropout, Flatten\n",
        "from keras.layers import Conv2D, MaxPooling2D\n",
        "from keras.layers import BatchNormalization\n",
        "\n",
        "\n",
        "batch_size = 128\n",
        "num_classes = 10\n",
        "epochs = 12\n",
        "\n",
        "\n",
        "img_rows, img_cols = 28, 28\n",
        "\n",
        "\n",
        "(x_train, y_train), (x_test, y_test) = mnist.load_data()\n",
        "\n",
        "x_train = x_train.reshape(x_train.shape[0], img_rows, img_cols, 1)\n",
        "x_test = x_test.reshape(x_test.shape[0], img_rows, img_cols, 1)\n",
        "input_shape = (img_rows, img_cols, 1)\n",
        "\n",
        "x_train = x_train.astype('float32')\n",
        "x_test = x_test.astype('float32')\n",
        "x_train /= 255\n",
        "x_test /= 255\n",
        "print('x_train shape:', x_train.shape)\n",
        "print(x_train.shape[0], 'train samples')\n",
        "print(x_test.shape[0], 'test samples')\n",
        "\n",
        "\n",
        "y_train = keras.utils.to_categorical(y_train, num_classes)\n",
        "y_test = keras.utils.to_categorical(y_test, num_classes)\n",
        "\n",
        "\n",
        "model = Sequential()\n",
        "model.add(Conv2D(32, kernel_size=(3, 3),\n",
        "                 activation='relu',\n",
        "                 input_shape=input_shape))\n",
        "model.add(Conv2D(64, (3, 3), activation='relu'))\n",
        "model.add(Conv2D(128, (3, 3), activation='relu'))\n",
        "model.add(BatchNormalization())\n",
        "model.add(MaxPooling2D(pool_size=(2, 2)))\n",
        "keep_prob = 0.25\n",
        "model.add(Dropout(1 - keep_prob))\n",
        "model.add(Flatten())\n",
        "model.add(Dense(256, activation='relu'))\n",
        "model.add(Dense(128, activation='relu'))\n",
        "keep_prob = 0.5\n",
        "model.add(Dropout(1 - keep_prob))\n",
        "model.add(Dense(num_classes, activation='softmax'))\n",
        "\n",
        "\n",
        "model.compile(loss=keras.losses.categorical_crossentropy,\n",
        "              optimizer=keras.optimizers.Adadelta(),\n",
        "              metrics=['accuracy'])"
      ],
      "execution_count": 2,
      "outputs": [
        {
          "output_type": "stream",
          "text": [
            "x_train shape: (60000, 28, 28, 1)\n",
            "60000 train samples\n",
            "10000 test samples\n"
          ],
          "name": "stdout"
        }
      ]
    },
    {
      "cell_type": "code",
      "metadata": {
        "id": "bKFzhQTt-I36",
        "colab_type": "code",
        "outputId": "4119980c-496d-4e37-f59b-d52b2ba53cf2",
        "cellView": "both",
        "colab": {
          "base_uri": "https://localhost:8080/",
          "height": 510
        }
      },
      "source": [
        "model.fit(x_train, y_train,\n",
        "          batch_size=batch_size,\n",
        "          epochs=epochs,\n",
        "          verbose=1)\n",
        "score = model.evaluate(x_test, y_test, verbose=0)\n",
        "print('Test loss:', score[0])\n",
        "print('Test accuracy:', score[1])"
      ],
      "execution_count": 3,
      "outputs": [
        {
          "output_type": "stream",
          "text": [
            "WARNING:tensorflow:From /usr/local/lib/python3.6/dist-packages/tensorflow/python/ops/math_ops.py:3066: to_int32 (from tensorflow.python.ops.math_ops) is deprecated and will be removed in a future version.\n",
            "Instructions for updating:\n",
            "Use tf.cast instead.\n",
            "Epoch 1/12\n",
            "60000/60000 [==============================] - 23s 381us/step - loss: 0.2197 - acc: 0.9343\n",
            "Epoch 2/12\n",
            "60000/60000 [==============================] - 21s 349us/step - loss: 0.0819 - acc: 0.9775\n",
            "Epoch 3/12\n",
            "60000/60000 [==============================] - 21s 349us/step - loss: 0.0634 - acc: 0.9826\n",
            "Epoch 4/12\n",
            "60000/60000 [==============================] - 21s 348us/step - loss: 0.0518 - acc: 0.9854\n",
            "Epoch 5/12\n",
            "60000/60000 [==============================] - 21s 348us/step - loss: 0.0449 - acc: 0.9878\n",
            "Epoch 6/12\n",
            "60000/60000 [==============================] - 21s 348us/step - loss: 0.0386 - acc: 0.9895\n",
            "Epoch 7/12\n",
            "60000/60000 [==============================] - 21s 349us/step - loss: 0.0347 - acc: 0.9903\n",
            "Epoch 8/12\n",
            "60000/60000 [==============================] - 21s 349us/step - loss: 0.0312 - acc: 0.9915\n",
            "Epoch 9/12\n",
            "60000/60000 [==============================] - 21s 349us/step - loss: 0.0278 - acc: 0.9920\n",
            "Epoch 10/12\n",
            "60000/60000 [==============================] - 21s 350us/step - loss: 0.0257 - acc: 0.9926\n",
            "Epoch 11/12\n",
            "60000/60000 [==============================] - 21s 348us/step - loss: 0.0248 - acc: 0.9935\n",
            "Epoch 12/12\n",
            "60000/60000 [==============================] - 21s 349us/step - loss: 0.0248 - acc: 0.9933\n",
            "Test loss: 0.0340702016794347\n",
            "Test accuracy: 0.9918\n"
          ],
          "name": "stdout"
        }
      ]
    }
  ]
}