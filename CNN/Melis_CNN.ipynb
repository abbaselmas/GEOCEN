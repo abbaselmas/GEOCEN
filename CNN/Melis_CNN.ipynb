{
  "nbformat": 4,
  "nbformat_minor": 0,
  "metadata": {
    "colab": {
      "name": "Melis-CNN.ipynb",
      "version": "0.3.2",
      "provenance": [],
      "collapsed_sections": []
    },
    "kernelspec": {
      "name": "python3",
      "display_name": "Python 3"
    },
    "accelerator": "GPU"
  },
  "cells": [
    {
      "cell_type": "code",
      "metadata": {
        "id": "Av_xyWQi9fXZ",
        "colab_type": "code",
        "outputId": "d78b1029-60f0-472c-afd1-e1e5e7ff0d7a",
        "colab": {
          "base_uri": "https://localhost:8080/",
          "height": 68
        }
      },
      "source": [
        "from __future__ import print_function\n",
        "import keras\n",
        "from keras.datasets import mnist\n",
        "from keras.models import Sequential\n",
        "from keras.layers import Dense, Dropout, Flatten\n",
        "from keras.layers import Conv2D, MaxPooling2D\n",
        "\n",
        "\n",
        "batch_size = 128\n",
        "num_classes = 10\n",
        "epochs = 12\n",
        "\n",
        "\n",
        "img_rows, img_cols = 28, 28\n",
        "\n",
        "\n",
        "(x_train, y_train), (x_test, y_test) = mnist.load_data()\n",
        "\n",
        "x_train = x_train.reshape(x_train.shape[0], img_rows, img_cols, 1)\n",
        "x_test = x_test.reshape(x_test.shape[0], img_rows, img_cols, 1)\n",
        "input_shape = (img_rows, img_cols, 1)\n",
        "\n",
        "x_train = x_train.astype('float32')\n",
        "x_test = x_test.astype('float32')\n",
        "x_train /= 255\n",
        "x_test /= 255\n",
        "print('x_train shape:', x_train.shape)\n",
        "print(x_train.shape[0], 'train samples')\n",
        "print(x_test.shape[0], 'test samples')\n",
        "\n",
        "\n",
        "y_train = keras.utils.to_categorical(y_train, num_classes)\n",
        "y_test = keras.utils.to_categorical(y_test, num_classes)\n",
        "\n",
        "\n",
        "model = Sequential()\n",
        "model.add(Conv2D(32, kernel_size=(3, 3),\n",
        "                 activation='relu',\n",
        "                 input_shape=input_shape))\n",
        "model.add(Conv2D(64, (3, 3), activation='relu'))\n",
        "model.add(MaxPooling2D(pool_size=(2, 2)))\n",
        "keep_prob = 0.25\n",
        "model.add(Dropout(1 - keep_prob))\n",
        "model.add(Flatten())\n",
        "model.add(Dense(128, activation='relu'))\n",
        "keep_prob = 0.5\n",
        "model.add(Dropout(1 - keep_prob))\n",
        "model.add(Dense(num_classes, activation='softmax'))\n",
        "\n",
        "\n",
        "model.compile(loss=keras.losses.categorical_crossentropy,\n",
        "              optimizer=keras.optimizers.Adadelta(),\n",
        "              metrics=['accuracy'])"
      ],
      "execution_count": 2,
      "outputs": [
        {
          "output_type": "stream",
          "text": [
            "x_train shape: (60000, 28, 28, 1)\n",
            "60000 train samples\n",
            "10000 test samples\n"
          ],
          "name": "stdout"
        }
      ]
    },
    {
      "cell_type": "code",
      "metadata": {
        "id": "bKFzhQTt-I36",
        "colab_type": "code",
        "outputId": "d974fc73-6a6a-4a03-b137-681bea394389",
        "colab": {
          "base_uri": "https://localhost:8080/",
          "height": 510
        }
      },
      "source": [
        "model.fit(x_train, y_train,\n",
        "          batch_size=batch_size,\n",
        "          epochs=epochs,\n",
        "          verbose=1)\n",
        "score = model.evaluate(x_test, y_test, verbose=0)\n",
        "print('Test loss:', score[0])\n",
        "print('Test accuracy:', score[1])"
      ],
      "execution_count": 3,
      "outputs": [
        {
          "output_type": "stream",
          "text": [
            "WARNING:tensorflow:From /usr/local/lib/python3.6/dist-packages/tensorflow/python/ops/math_ops.py:3066: to_int32 (from tensorflow.python.ops.math_ops) is deprecated and will be removed in a future version.\n",
            "Instructions for updating:\n",
            "Use tf.cast instead.\n",
            "Epoch 1/12\n",
            "60000/60000 [==============================] - 11s 189us/step - loss: 0.3305 - acc: 0.8974\n",
            "Epoch 2/12\n",
            "60000/60000 [==============================] - 8s 138us/step - loss: 0.1329 - acc: 0.9606\n",
            "Epoch 3/12\n",
            "60000/60000 [==============================] - 8s 138us/step - loss: 0.1062 - acc: 0.9679\n",
            "Epoch 4/12\n",
            "60000/60000 [==============================] - 8s 137us/step - loss: 0.0898 - acc: 0.9731\n",
            "Epoch 5/12\n",
            "60000/60000 [==============================] - 8s 139us/step - loss: 0.0825 - acc: 0.9753\n",
            "Epoch 6/12\n",
            "60000/60000 [==============================] - 8s 138us/step - loss: 0.0775 - acc: 0.9766\n",
            "Epoch 7/12\n",
            "60000/60000 [==============================] - 8s 137us/step - loss: 0.0741 - acc: 0.9779\n",
            "Epoch 8/12\n",
            "60000/60000 [==============================] - 8s 138us/step - loss: 0.0706 - acc: 0.9792\n",
            "Epoch 9/12\n",
            "60000/60000 [==============================] - 8s 138us/step - loss: 0.0656 - acc: 0.9804\n",
            "Epoch 10/12\n",
            "60000/60000 [==============================] - 8s 137us/step - loss: 0.0678 - acc: 0.9806\n",
            "Epoch 11/12\n",
            "60000/60000 [==============================] - 8s 137us/step - loss: 0.0641 - acc: 0.9810\n",
            "Epoch 12/12\n",
            "60000/60000 [==============================] - 8s 138us/step - loss: 0.0625 - acc: 0.9817\n",
            "Test loss: 0.031745670877187514\n",
            "Test accuracy: 0.9894\n"
          ],
          "name": "stdout"
        }
      ]
    }
  ]
}